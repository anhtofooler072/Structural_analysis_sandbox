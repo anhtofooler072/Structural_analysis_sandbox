{
 "cells": [
  {
   "cell_type": "markdown",
   "metadata": {},
   "source": []
  },
  {
   "cell_type": "code",
   "execution_count": null,
   "metadata": {},
   "outputs": [],
   "source": [
    "import matplotlib.pyplot as plt\n",
    "import numpy as np \n",
    "from scipy.stats import norm\n",
    "import math\n",
    "import sympy as sym\n",
    "\n",
    "H, D, E, t = sym.symbols('H D E t')\n"
   ]
  },
  {
   "cell_type": "code",
   "execution_count": null,
   "metadata": {},
   "outputs": [
    {
     "name": "stdout",
     "output_type": "stream",
     "text": [
      "3.834951969714103e-06\n"
     ]
    }
   ],
   "source": [
    "LSF = \n",
    "\n",
    "column_params = {\n",
    "    #'x' : [mean, std_dev]\n",
    "    'H': np.array([10, 0.02]), #m\n",
    "    'E': np.array([190e9, 10e9]), #N/m2\n",
    "    'D': np.array([0.125, 0.0025]), #m\n",
    "    't': np.array([0.005, 0.0006]), #m \n",
    "    \n",
    "    'K_factor': 2,\n",
    "    'P_max': 13 \n",
    "}\n",
    "\n",
    "subs = {\n",
    "    'H': column_params['H'][0],\n",
    "    'E': column_params['E'][0],\n",
    "    'D': column_params['D'][0],\n",
    "    't': column_params['t'][0]\n",
    "}\n",
    "\n",
    "\n"
   ]
  }
 ],
 "metadata": {
  "kernelspec": {
   "display_name": "Python 3",
   "language": "python",
   "name": "python3"
  },
  "language_info": {
   "codemirror_mode": {
    "name": "ipython",
    "version": 3
   },
   "file_extension": ".py",
   "mimetype": "text/x-python",
   "name": "python",
   "nbconvert_exporter": "python",
   "pygments_lexer": "ipython3",
   "version": "3.12.1"
  }
 },
 "nbformat": 4,
 "nbformat_minor": 2
}
