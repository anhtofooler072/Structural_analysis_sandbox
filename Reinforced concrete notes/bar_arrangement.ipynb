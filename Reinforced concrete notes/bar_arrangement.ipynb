{
 "cells": [
  {
   "cell_type": "code",
   "execution_count": null,
   "metadata": {},
   "outputs": [],
   "source": [
    "import pandas as pd  \n",
    "dt = pd.read_csv('./equivalentbars_area.csv')"
   ]
  },
  {
   "cell_type": "code",
   "execution_count": 12,
   "metadata": {},
   "outputs": [
    {
     "name": "stdout",
     "output_type": "stream",
     "text": [
      "1257\n"
     ]
    }
   ],
   "source": [
    "bars_num = 4\n",
    "bar_size = 20\n",
    "print(dt[str(bars_num)].loc[dt['Bar_size_mm'] == bar_size].values[0])"
   ]
  },
  {
   "cell_type": "code",
   "execution_count": 4,
   "metadata": {},
   "outputs": [
    {
     "name": "stdout",
     "output_type": "stream",
     "text": [
      "   Bar_size_mm     1     2     3     4     5     6     7      8      9     10\n",
      "0            6    28    57    85   113   141   170   198    226    254    283\n",
      "1            8    50   101   151   201   251   302   352    402    452    503\n",
      "2           10    79   157   236   314   393   471   550    628    707    785\n",
      "3           12   113   226   339   452   565   679   792    905   1018   1131\n",
      "4           16   201   402   603   804  1005  1206  1407   1608   1810   2011\n",
      "5           20   314   628   942  1257  1571  1885  2199   2513   2827   3142\n",
      "6           25   491   982  1473  1963  2454  2945  3436   3927   4418   4909\n",
      "7           32   804  1608  2413  3217  4021  4825  5630   6434   7238   8042\n",
      "8           40  1257  2513  3770  5027  6283  7540  8796  10053  11310  12566\n"
     ]
    }
   ],
   "source": [
    "print(dt)"
   ]
  }
 ],
 "metadata": {
  "kernelspec": {
   "display_name": "Python 3",
   "language": "python",
   "name": "python3"
  },
  "language_info": {
   "codemirror_mode": {
    "name": "ipython",
    "version": 3
   },
   "file_extension": ".py",
   "mimetype": "text/x-python",
   "name": "python",
   "nbconvert_exporter": "python",
   "pygments_lexer": "ipython3",
   "version": "3.12.1"
  }
 },
 "nbformat": 4,
 "nbformat_minor": 2
}
