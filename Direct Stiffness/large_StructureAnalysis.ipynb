{
 "cells": [
  {
   "cell_type": "markdown",
   "metadata": {},
   "source": [
    "# Apply direct stiffness method to solve for the larger (general) case of a truss structure"
   ]
  },
  {
   "cell_type": "code",
   "execution_count": 99,
   "metadata": {},
   "outputs": [
    {
     "name": "stdout",
     "output_type": "stream",
     "text": [
      "[[      0.]\n",
      " [-200000.]\n",
      " [      0.]\n",
      " [      0.]\n",
      " [      0.]\n",
      " [      0.]\n",
      " [      0.]\n",
      " [      0.]\n",
      " [      0.]\n",
      " [      0.]\n",
      " [      0.]\n",
      " [      0.]]\n"
     ]
    }
   ],
   "source": [
    "import numpy as np\n",
    "import matplotlib.pyplot as plt\n",
    "import math\n",
    "\n",
    "# constants\n",
    "E =  200*10**9 #(N/m^2) \n",
    "A =  0.005 #(m^2) \n",
    "L = 10 #1 #(m)\n",
    "\n",
    "# degree of freedom\n",
    "nodes = 6\n",
    "nDof = nodes * 2\n",
    "\n",
    "# force vector\n",
    "forces = np.zeros((nDof,1))\n",
    "forces[1] = -200000\n",
    "print(forces)\n",
    "# restraint nodes\n",
    "restraint_nDof = [6,7,10,11]\n",
    "\n",
    "# quadrants alias\n",
    "Quadrants = {\n",
    "    'Q11': 0,\n",
    "    'Q12': 1,\n",
    "    'Q21': 2,\n",
    "    'Q22': 3\n",
    "}"
   ]
  },
  {
   "cell_type": "markdown",
   "metadata": {},
   "source": [
    "## Utilise"
   ]
  },
  {
   "cell_type": "code",
   "execution_count": 100,
   "metadata": {},
   "outputs": [],
   "source": [
    "def bar_globalstiffness(E, A, L, theta, node1, node2, tag):\n",
    "    \"\"\"\n",
    "    Calculate the global stiffness matrix for a bar element in a 2D truss structure.\n",
    "    Parameters:\n",
    "    E (float): Young's modulus of the material.\n",
    "    A (float): Cross-sectional area of the bar.\n",
    "    L (float): Length of the bar.\n",
    "    theta (float): Angle of the bar with respect to the horizontal axis in degrees.\n",
    "    Returns:\n",
    "    numpy.ndarray: A 4x4 global stiffness matrix for the bar element.\n",
    "    \"\"\"\n",
    "\n",
    "    theta = math.radians(theta)  # Convert theta from degrees to radians\n",
    "    c = math.cos(theta)\n",
    "    s = math.sin(theta)\n",
    "    k = E * A / L\n",
    "    K = np.array([[c**2, c*s, -c**2, -c*s],\n",
    "                  [c*s, s**2, -c*s, -s**2],\n",
    "                  [-c**2, -c*s, c**2, c*s],\n",
    "                  [-c*s, -s**2, c*s, s**2]]) * k\n",
    "    \n",
    "    element = {\n",
    "        'tag' : tag,\n",
    "        'node' : [node1, node2],\n",
    "        'global_stiffness' : K\n",
    "    }\n",
    "    return element\n",
    "\n",
    "def structure_primaryStiffness (nDof, Elms):\n",
    "    \"\"\"\n",
    "    Calculate the primary stiffness matrix for a 2D truss structure.\n",
    "    Parameters:\n",
    "    nDof (int): Number of degrees of freedom in the structure.\n",
    "    Elms (numpy.ndarray): An array of elements in the structure.\n",
    "    Returns:\n",
    "    numpy.ndarray: A nDof x nDof primary stiffness matrix for the structure.\n",
    "    \"\"\"\n",
    "    prime = np.zeros((nDof, nDof))\n",
    "    for i in range(0, nDof, 2): # index of rows\n",
    "        for j in range(0, nDof, 2): # index of columns \n",
    "            dummy_quadrant = np.zeros((2,2))\n",
    "            for elm in Elms:\n",
    "                if i/2 == j/2 and i/2 == elm['node'][0]:\n",
    "                    dummy_quadrant += elm['quadrants'][Quadrants['Q11']]\n",
    "                \n",
    "                elif i/2 == j/2 and i/2 == elm['node'][1]:\n",
    "                    dummy_quadrant += elm['quadrants'][Quadrants['Q22']]\n",
    "\n",
    "                elif i/2 == elm['node'][0] and j/2 == elm['node'][1]:\n",
    "                    dummy_quadrant += elm['quadrants'][Quadrants['Q12']]\n",
    "                \n",
    "                elif i/2 == elm['node'][1] and j/2 == elm['node'][0]:\n",
    "                    dummy_quadrant += elm['quadrants'][Quadrants['Q21']]\n",
    "\n",
    "                prime[i:i+2, j:j+2] = dummy_quadrant\n",
    "                \n",
    "    return prime"
   ]
  },
  {
   "cell_type": "markdown",
   "metadata": {},
   "source": [
    "## Declaring the global stiffness matrix for each bar element"
   ]
  },
  {
   "cell_type": "code",
   "execution_count": 101,
   "metadata": {},
   "outputs": [],
   "source": [
    "elm_A = bar_globalstiffness(E, A, L, 60, 0, 1, 'A')  # NODE 0-1 \n",
    "elm_B = bar_globalstiffness(E, A, L, 0, 1, 2, 'B')   # NODE 1-2  \n",
    "elm_C = bar_globalstiffness(E, A, L, 300, 2, 3, 'C') # NODE 2-3\n",
    "elm_D = bar_globalstiffness(E, A, L, 180, 3, 4, 'D') # NODE 3-4\n",
    "elm_E = bar_globalstiffness(E, A, L, 0, 0, 4, 'E')   # NODE 0-4\n",
    "elm_F = bar_globalstiffness(E, A, L, 300, 1, 4, 'F') # NODE 1-4\n",
    "elm_G = bar_globalstiffness(E, A, L, 240, 2, 4, 'G') # NODE 2-4\n",
    "elm_H = bar_globalstiffness(E, A, 5, 270, 4, 5, 'H') # NODE 4-5\n",
    "\n",
    "ELM_ARR = np.array([elm_A,\n",
    "            elm_B,\n",
    "            elm_C,\n",
    "            elm_D,\n",
    "            elm_E,\n",
    "            elm_F,\n",
    "            elm_G,\n",
    "            elm_H])\n",
    "\n",
    "for elm in ELM_ARR:\n",
    "    Q11 = elm['global_stiffness'][:2, :2]\n",
    "    Q12 = elm['global_stiffness'][:2, 2:]\n",
    "    Q21 = elm['global_stiffness'][2:, :2]\n",
    "    Q22 = elm['global_stiffness'][2:, 2:]\n",
    "    elm['quadrants'] = [Q11, Q12, Q21, Q22]\n"
   ]
  },
  {
   "cell_type": "code",
   "execution_count": 102,
   "metadata": {},
   "outputs": [],
   "source": [
    "prime_matrix = structure_primaryStiffness(nDof, ELM_ARR)\n",
    "# print(np.round(prime_matrix,2))\n"
   ]
  },
  {
   "cell_type": "code",
   "execution_count": 103,
   "metadata": {},
   "outputs": [],
   "source": [
    "structure_matrix = np.copy(prime_matrix)\n",
    "\n",
    "for i in restraint_nDof:    \n",
    "    for j in range(nDof):\n",
    "        if i in restraint_nDof and i != j:\n",
    "            structure_matrix[i,j] = 0\n",
    "            structure_matrix[j,i] = 0\n",
    "        elif i in restraint_nDof and i == j:\n",
    "            structure_matrix[i,j] = 1\n",
    "\n",
    "# print(np.round(structure_matrix,2))\n",
    "\n",
    "forces_restraint = np.delete(forces, restraint_nDof, axis=0)\n"
   ]
  },
  {
   "cell_type": "code",
   "execution_count": 112,
   "metadata": {},
   "outputs": [
    {
     "name": "stdout",
     "output_type": "stream",
     "text": [
      "the horizontal displacement of node 1 is 0.002 m (⇒)\n",
      "the vertical displacement of node 1 is -0.019 m (⇓) \n",
      "\n",
      "the horizontal displacement of node 2 is -0.008 m (⇐)\n",
      "the vertical displacement of node 2 is -0.01 m (⇓) \n",
      "\n",
      "the horizontal displacement of node 3 is -0.006 m (⇐)\n",
      "the vertical displacement of node 3 is -0.001 m (⇓) \n",
      "\n",
      "the horizontal displacement of node 4 is 0.0 m (⇐)\n",
      "the vertical displacement of node 4 is 0.0 m (⇑) \n",
      "\n",
      "the horizontal displacement of node 5 is 0.001 m (⇒)\n",
      "the vertical displacement of node 5 is -0.002 m (⇓) \n",
      "\n",
      "the horizontal displacement of node 6 is 0.0 m (⇐)\n",
      "the vertical displacement of node 6 is 0.0 m (⇑) \n",
      "\n"
     ]
    }
   ],
   "source": [
    "# displacement\n",
    "displacement = np.linalg.solve(structure_matrix, forces)\n",
    "\n",
    "for i in range(0, nDof, 2):\n",
    "    print(f\"the horizontal displacement of node {i//2 + 1} is {np.round(displacement[i,0],3)} m {'(⇒)' if displacement[i,0] > 0 else '(⇐)'}\")\n",
    "    print(f\"the vertical displacement of node {i//2 + 1} is {np.round(displacement[i+1,0],3)} m {'(⇓)' if displacement[i+1,0] < 0 else '(⇑)' }\",'\\n')"
   ]
  },
  {
   "cell_type": "code",
   "execution_count": null,
   "metadata": {},
   "outputs": [
    {
     "name": "stdout",
     "output_type": "stream",
     "text": [
      "the horizontal reaction of node 1 is 0.0 N (⇒)\n",
      "the vertical reaction of node 1 is -200000.0 N (⇓) \n",
      "\n",
      "the horizontal reaction of node 2 is -0.0 N (⇐)\n",
      "the vertical reaction of node 2 is 0.0 N (⇑) \n",
      "\n",
      "the horizontal reaction of node 3 is 0.0 N (⇒)\n",
      "the vertical reaction of node 3 is -0.0 N (⇓) \n",
      "\n",
      "the horizontal reaction of node 4 is -0.0 N (⇐)\n",
      "the vertical reaction of node 4 is -200000.0 N (⇓) \n",
      "\n",
      "the horizontal reaction of node 5 is -0.0 N (⇐)\n",
      "the vertical reaction of node 5 is -0.0 N (⇓) \n",
      "\n",
      "the horizontal reaction of node 6 is 0.0 N (⇒)\n",
      "the vertical reaction of node 6 is 400000.0 N (⇑) \n",
      "\n"
     ]
    }
   ],
   "source": [
    "reactions = np.dot(prime_matrix, displacement)\n",
    "\n",
    "for i in range(0, nDof, 2):\n",
    "    print(f\"the horizontal reaction of node {i//2 + 1} is {np.round(reactions[i,0],3)} N {'(⇒)' if reactions[i,0] > 0 else '(⇐)'}\")\n",
    "    print(f\"the vertical reaction of node {i//2 + 1} is {np.round(reactions[i+1,0],3)} N {'(⇓)' if reactions[i+1,0] < 0 else '(⇑)' }\",'\\n')"
   ]
  }
 ],
 "metadata": {
  "kernelspec": {
   "display_name": "Python 3",
   "language": "python",
   "name": "python3"
  },
  "language_info": {
   "codemirror_mode": {
    "name": "ipython",
    "version": 3
   },
   "file_extension": ".py",
   "mimetype": "text/x-python",
   "name": "python",
   "nbconvert_exporter": "python",
   "pygments_lexer": "ipython3",
   "version": "3.12.1"
  }
 },
 "nbformat": 4,
 "nbformat_minor": 2
}
