{
 "cells": [
  {
   "cell_type": "markdown",
   "metadata": {},
   "source": [
    "# Apply direct stiffness method to solve for the larger (general) case of a truss structure"
   ]
  },
  {
   "cell_type": "code",
   "execution_count": 22,
   "metadata": {},
   "outputs": [],
   "source": [
    "import numpy as np\n",
    "import matplotlib.pyplot as plt\n",
    "import math\n",
    "\n",
    "# constants\n",
    "E =  1 #200*10**9 #(N/m^2) \n",
    "A =  1 #0.005 #(m^2) \n",
    "L = 10 #1 #(m)\n",
    "\n",
    "# degree of freedom\n",
    "nodes = 6\n",
    "nDof = nodes * 2\n",
    "\n",
    "\n",
    "# restraint nodes\n",
    "restraint_nDof = [6,7,10,11]\n",
    "\n",
    "# quadrants alias\n",
    "Quadrants = {\n",
    "    'Q11': 0,\n",
    "    'Q12': 1,\n",
    "    'Q21': 2,\n",
    "    'Q22': 3\n",
    "}"
   ]
  },
  {
   "cell_type": "markdown",
   "metadata": {},
   "source": [
    "## Utilise"
   ]
  },
  {
   "cell_type": "code",
   "execution_count": null,
   "metadata": {},
   "outputs": [
    {
     "name": "stdout",
     "output_type": "stream",
     "text": [
      "[1, 2]\n"
     ]
    }
   ],
   "source": [
    "def bar_globalstiffness(E, A, L, theta, node1, node2, tag):\n",
    "    \"\"\"\n",
    "    Calculate the global stiffness matrix for a bar element in a 2D truss structure.\n",
    "    Parameters:\n",
    "    E (float): Young's modulus of the material.\n",
    "    A (float): Cross-sectional area of the bar.\n",
    "    L (float): Length of the bar.\n",
    "    theta (float): Angle of the bar with respect to the horizontal axis in degrees.\n",
    "    Returns:\n",
    "    numpy.ndarray: A 4x4 global stiffness matrix for the bar element.\n",
    "    \"\"\"\n",
    "\n",
    "    theta = math.radians(theta)  # Convert theta from degrees to radians\n",
    "    c = math.cos(theta)\n",
    "    s = math.sin(theta)\n",
    "    k = E * A / L\n",
    "    K = np.array([[c**2, c*s, -c**2, -c*s],\n",
    "                  [c*s, s**2, -c*s, -s**2],\n",
    "                  [-c**2, -c*s, c**2, c*s],\n",
    "                  [-c*s, -s**2, c*s, s**2]]) * k\n",
    "    \n",
    "    element = {\n",
    "        'tag' : tag,\n",
    "        'node' : [node1, node2],\n",
    "        'global_stiffness' : K\n",
    "    }\n",
    "    return element\n",
    "\n",
    "elm_1 = bar_globalstiffness(E, A, L, 60, 1, 2, A)\n",
    "print(elm_1[\"node\"])\n",
    "\n",
    "def structure_primaryStiffness (nDof, Elms):\n",
    "    \"\"\"\n",
    "    Calculate the primary stiffness matrix for a 2D truss structure.\n",
    "    Parameters:\n",
    "    nDof (int): Number of degrees of freedom in the structure.\n",
    "    Elms (numpy.ndarray): An array of elements in the structure.\n",
    "    Returns:\n",
    "    numpy.ndarray: A nDof x nDof primary stiffness matrix for the structure.\n",
    "    \"\"\"\n",
    "    prime = np.zeros((nDof, nDof))\n",
    "    for i in range(0, nDof, 2): # index of rows\n",
    "        for j in range(0, nDof, 2): # index of columns \n",
    "            dummy_quadrant = np.zeros((2,2))\n",
    "            for elm in Elms:\n",
    "                if i/2 == j/2 and i/2 == elm['node'][0]:\n",
    "                    dummy_quadrant += elm['quadrants'][Quadrants['Q11']]\n",
    "                \n",
    "                elif i/2 == j/2 and i/2 == elm['node'][1]:\n",
    "                    dummy_quadrant += elm['quadrants'][Quadrants['Q22']]\n",
    "\n",
    "                elif i/2 == elm['node'][0] and j/2 == elm['node'][1]:\n",
    "                    dummy_quadrant += elm['quadrants'][Quadrants['Q12']]\n",
    "                \n",
    "                elif i/2 == elm['node'][1] and j/2 == elm['node'][0]:\n",
    "                    dummy_quadrant += elm['quadrants'][Quadrants['Q21']]\n",
    "\n",
    "                prime[i:i+2, j:j+2] = dummy_quadrant\n",
    "    return prime"
   ]
  },
  {
   "cell_type": "markdown",
   "metadata": {},
   "source": [
    "## Declaring the global stiffness matrix for each bar element"
   ]
  },
  {
   "cell_type": "code",
   "execution_count": null,
   "metadata": {},
   "outputs": [],
   "source": [
    "elm_A = bar_globalstiffness(E, A, L, 60, 0, 1, 'A')  # NODE 0-1 \n",
    "elm_B = bar_globalstiffness(E, A, L, 0, 1, 2, 'B')   # NODE 1-2  \n",
    "elm_C = bar_globalstiffness(E, A, L, 300, 2, 3, 'C') # NODE 2-3\n",
    "elm_D = bar_globalstiffness(E, A, L, 180, 3, 4, 'D') # NODE 3-4\n",
    "elm_E = bar_globalstiffness(E, A, L, 0, 0, 4, 'E')   # NODE 0-4\n",
    "elm_F = bar_globalstiffness(E, A, L, 300, 1, 4, 'F') # NODE 1-4\n",
    "elm_G = bar_globalstiffness(E, A, L, 240, 2, 4, 'G') # NODE 2-4\n",
    "elm_H = bar_globalstiffness(E, A, 5, 270, 4, 5, 'H') # NODE 4-5\n",
    "\n",
    "ELM_ARR = np.array([elm_A,\n",
    "            elm_B,\n",
    "            elm_C,\n",
    "            elm_D,\n",
    "            elm_E,\n",
    "            elm_F,\n",
    "            elm_G,\n",
    "            elm_H])\n",
    "\n",
    "for elm in ELM_ARR:\n",
    "    Q11 = elm['global_stiffness'][:2, :2]\n",
    "    Q12 = elm['global_stiffness'][:2, 2:]\n",
    "    Q21 = elm['global_stiffness'][2:, :2]\n",
    "    Q22 = elm['global_stiffness'][2:, 2:]\n",
    "    elm['quadrants'] = [Q11, Q12, Q21, Q22]\n"
   ]
  },
  {
   "cell_type": "code",
   "execution_count": 27,
   "metadata": {},
   "outputs": [
    {
     "name": "stdout",
     "output_type": "stream",
     "text": [
      "[[ 0.13  0.04 -0.03 -0.04  0.    0.    0.    0.   -0.1   0.    0.    0.  ]\n",
      " [ 0.04  0.08 -0.04 -0.08  0.    0.    0.    0.    0.    0.    0.    0.  ]\n",
      " [-0.03 -0.04  0.15  0.   -0.1   0.    0.    0.   -0.03  0.04  0.    0.  ]\n",
      " [-0.04 -0.08  0.    0.15  0.    0.    0.    0.    0.04 -0.08  0.    0.  ]\n",
      " [ 0.    0.   -0.1   0.    0.15  0.   -0.03  0.04 -0.03 -0.04  0.    0.  ]\n",
      " [ 0.    0.    0.    0.    0.    0.15  0.04 -0.08 -0.04 -0.07  0.    0.  ]\n",
      " [ 0.    0.    0.    0.   -0.03  0.04  0.13 -0.04 -0.1   0.    0.    0.  ]\n",
      " [ 0.    0.    0.    0.    0.04 -0.08 -0.04  0.08  0.   -0.    0.    0.  ]\n",
      " [-0.1   0.   -0.03  0.04 -0.03 -0.04 -0.1   0.    0.25  0.   -0.   -0.  ]\n",
      " [ 0.    0.    0.04 -0.08 -0.04 -0.07  0.   -0.    0.    0.35 -0.   -0.2 ]\n",
      " [ 0.    0.    0.    0.    0.    0.    0.    0.   -0.   -0.    0.    0.  ]\n",
      " [ 0.    0.    0.    0.    0.    0.    0.    0.   -0.   -0.2   0.    0.2 ]]\n"
     ]
    }
   ],
   "source": [
    "prime_matrix = structure_primaryStiffness(nDof, ELM_ARR)\n",
    "print(np.round(prime_matrix,2))\n"
   ]
  }
 ],
 "metadata": {
  "kernelspec": {
   "display_name": "Python 3",
   "language": "python",
   "name": "python3"
  },
  "language_info": {
   "codemirror_mode": {
    "name": "ipython",
    "version": 3
   },
   "file_extension": ".py",
   "mimetype": "text/x-python",
   "name": "python",
   "nbconvert_exporter": "python",
   "pygments_lexer": "ipython3",
   "version": "3.12.1"
  }
 },
 "nbformat": 4,
 "nbformat_minor": 2
}
