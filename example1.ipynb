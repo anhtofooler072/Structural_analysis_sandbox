{
 "cells": [
  {
   "cell_type": "markdown",
   "metadata": {},
   "source": [
    "# Direct stiffness method basic example"
   ]
  },
  {
   "cell_type": "code",
   "execution_count": 29,
   "metadata": {},
   "outputs": [],
   "source": [
    "# DEPENDENCIES\n",
    "import math\n",
    "import copy \n",
    "import numpy as np\n",
    "import matplotlib.pyplot as plt\n",
    "\n",
    "# constants\n",
    "E =  200*10**9 #(N/m^2)\n",
    "A =  0.005 #(m^2)\n",
    "\n",
    "# we have 2 degrees of freedom each node, so the total degrees of freedom is 2*number of nodes, which is 6\n",
    "nDof = 6\n",
    "\n",
    "# the first and third nodes are supports so they are restrained in the x and y directions\n",
    "# this is used for imposing the boundary conditions\n",
    "restrained_Dof = [1,2,5,6]"
   ]
  },
  {
   "cell_type": "markdown",
   "metadata": {},
   "source": [
    "### Utils \n",
    "> this section is for defining the functions that will be used in the main code"
   ]
  },
  {
   "cell_type": "code",
   "execution_count": 30,
   "metadata": {},
   "outputs": [],
   "source": [
    "def kg_generator(E, A, L, Theta):\n",
    "    \"\"\"\n",
    "    This function generates the global stiffness matrix for a bar element\n",
    "\n",
    "    Args:\n",
    "        E: Young's modulus\n",
    "        A: Area of the cross section\n",
    "        L: Length of the element\n",
    "        Theta: Angle of the element with respect to the x-axis\n",
    "\n",
    "    Returns:\n",
    "        The global stiffness matrix for each element\n",
    "    \"\"\"\n",
    "\n",
    "    c = math.cos(Theta)\n",
    "    s = math.sin(Theta)\n",
    "\n",
    "    # quadrants\n",
    "    K11 = (E*A/L)*np.array([[c**2, c*s], [c*s, s**2]])\n",
    "    K12 = (E*A/L)*np.array([[-c**2, -c*s], [-c*s, -s**2]])\n",
    "    K21 = (E*A/L)*np.array([[-c**2, -c*s], [-c*s, -s**2]])\n",
    "    K22 = (E*A/L)*np.array([[c**2, c*s], [c*s, s**2]])\n",
    "\n",
    "    return [K11, K12, K21, K22]"
   ]
  },
  {
   "cell_type": "markdown",
   "metadata": {},
   "source": [
    "## Find the stiffness matrix of each element\n",
    "to find the stiffness matrix of each element we follow this formula:\n",
    "\n",
    "$$\n",
    "k = \\frac{E A}{L}\n",
    "\\begin{bmatrix}\n",
    "c^2 & c s & -c^2 & -c s \\\\\n",
    "c s & s^2 & -c s & -s^2 \\\\\n",
    "-c^2 & -c s & c^2 & c s \\\\\n",
    "-c s & -s^2 & c s & s^2\n",
    "\\end{bmatrix}\n",
    "$$\n",
    "\n",
    "where:\n",
    "- $E$ is the modulus of elasticity\n",
    "- $A$ is the cross-sectional area\n",
    "- $L$ is the length of the element\n",
    "- $c = \\cos(\\theta)$\n",
    "- $s = \\sin(\\theta)$\n",
    "- $\\theta$ is the angle between the element and the x-axis\n"
   ]
  },
  {
   "cell_type": "markdown",
   "metadata": {},
   "source": [
    "### element 1"
   ]
  },
  {
   "cell_type": "code",
   "execution_count": 31,
   "metadata": {},
   "outputs": [
    {
     "name": "stdout",
     "output_type": "stream",
     "text": [
      "global stiffness matrix for element 1 (node 1 to 2)\n",
      "[array([[3.33333333e+08, 0.00000000e+00],\n",
      "       [0.00000000e+00, 0.00000000e+00]]), array([[-3.33333333e+08, -0.00000000e+00],\n",
      "       [-0.00000000e+00, -0.00000000e+00]]), array([[-3.33333333e+08, -0.00000000e+00],\n",
      "       [-0.00000000e+00, -0.00000000e+00]]), array([[3.33333333e+08, 0.00000000e+00],\n",
      "       [0.00000000e+00, 0.00000000e+00]])]\n"
     ]
    }
   ],
   "source": [
    "theta = 0 #rads\n",
    "L = 3 #m\n",
    "\n",
    "[K11_12, K12_12, K21_12, K22_12] = kg_generator(E, A, L, theta)\n",
    "KG_12 = kg_generator(E, A, L, theta)\n",
    "\n",
    "print(\"global stiffness matrix for element 1 (node 1 to 2)\")\n",
    "print(KG_12)\n"
   ]
  },
  {
   "cell_type": "markdown",
   "metadata": {},
   "source": [
    "### element 2"
   ]
  },
  {
   "cell_type": "code",
   "execution_count": 32,
   "metadata": {},
   "outputs": [
    {
     "name": "stdout",
     "output_type": "stream",
     "text": [
      "global stiffness matrix for element 2 (node 2 to 3)\n",
      "[[[ 7.11759367e+07 -9.57558007e+07]\n",
      "  [-9.57558007e+07  1.28824063e+08]]\n",
      "\n",
      " [[-7.11759367e+07  9.57558007e+07]\n",
      "  [ 9.57558007e+07 -1.28824063e+08]]\n",
      "\n",
      " [[-7.11759367e+07  9.57558007e+07]\n",
      "  [ 9.57558007e+07 -1.28824063e+08]]\n",
      "\n",
      " [[ 7.11759367e+07 -9.57558007e+07]\n",
      "  [-9.57558007e+07  1.28824063e+08]]]\n"
     ]
    }
   ],
   "source": [
    "theta2 = 2.21 #rads\n",
    "L2 = 5 #m\n",
    "\n",
    "\n",
    "[K11_23, K12_23, K21_23, K22_23] = kg_generator(E, A, L2, theta2)\n",
    "KG_23 = kg_generator(E, A, L2, theta2)\n",
    "\n",
    "print(\"global stiffness matrix for element 2 (node 2 to 3)\")\n",
    "print(np.round(KG_23, 3))"
   ]
  },
  {
   "cell_type": "markdown",
   "metadata": {},
   "source": [
    "## Primary stiffness matrix for structure\n",
    "to find the primary stiffness matrix of the whole structure, we divide the stiffness matrix of a element we've found above into 4 submatrices and then we add them to the primary stiffness matrix of the structure:\n",
    "\n",
    "$$\n",
    "K_{i} =\n",
    "\\begin{bmatrix}\n",
    "k_{11} & k_{12} & k_{13} & k_{14} \\\\\n",
    "k_{21} & k_{22} & k_{23} & k_{24} \\\\\n",
    "k_{31} & k_{32} & k_{33} & k_{34} \\\\\n",
    "k_{41} & k_{42} & k_{43} & k_{44}\n",
    "\\end{bmatrix}\n",
    "=\n",
    "\\begin{bmatrix}\n",
    "K_{11} & K_{12} \\\\\n",
    "K_{21} & K_{22}\n",
    "\\end{bmatrix}\n",
    "$$\n",
    "\n",
    "then we add the submatrices to the primary stiffness matrix of the structure:\n",
    "\n",
    "$$\n",
    "KP=\n",
    "\\begin{bmatrix}\n",
    "KP_{11} & KP_{12} & KP_{13} \\\\\n",
    "KP_{21} & KP_{22} & KP_{23} \\\\\n",
    "KP_{31} & KP_{32} & KP_{33}\n",
    "\\end{bmatrix}\n",
    "$$\n",
    "\n",
    "the elements of the primary stiffness matrix of the structure are:\n",
    "$$\n",
    "KP =\n",
    "\\begin{bmatrix}\n",
    "Ka_{11} & Ka_{12} & 0 \\\\\n",
    "Ka_{21} & Ka_{22} + Kb_{11} & Kb_{12} \\\\\n",
    "0 & Kb_{32} & Kb_{33}\n",
    "\\end{bmatrix}\n",
    "$$\n",
    "\n",
    "\n",
    "\n"
   ]
  },
  {
   "cell_type": "code",
   "execution_count": 33,
   "metadata": {},
   "outputs": [
    {
     "name": "stdout",
     "output_type": "stream",
     "text": [
      "global stiffness matrix for the entire structure\n",
      "[[ 3.33333333e+08  0.00000000e+00 -3.33333333e+08 -0.00000000e+00\n",
      "   0.00000000e+00  0.00000000e+00]\n",
      " [ 0.00000000e+00  0.00000000e+00 -0.00000000e+00 -0.00000000e+00\n",
      "   0.00000000e+00  0.00000000e+00]\n",
      " [-3.33333333e+08 -0.00000000e+00  4.04509270e+08 -9.57558007e+07\n",
      "  -7.11759367e+07  9.57558007e+07]\n",
      " [-0.00000000e+00 -0.00000000e+00 -9.57558007e+07  1.28824063e+08\n",
      "   9.57558007e+07 -1.28824063e+08]\n",
      " [ 0.00000000e+00  0.00000000e+00 -7.11759367e+07  9.57558007e+07\n",
      "   7.11759367e+07 -9.57558007e+07]\n",
      " [ 0.00000000e+00  0.00000000e+00  9.57558007e+07 -1.28824063e+08\n",
      "  -9.57558007e+07  1.28824063e+08]]\n"
     ]
    }
   ],
   "source": [
    "# first row\n",
    "KP11 = K11_12\n",
    "KP12 = K12_12\n",
    "KP13 = np.zeros((2,2))\n",
    "\n",
    "# second row\n",
    "KP21 = K21_12\n",
    "KP22 = K22_12 + K11_23\n",
    "KP23 = K12_23\n",
    "\n",
    "# third row\n",
    "KP31 = np.zeros((2,2))\n",
    "KP32 = K21_23\n",
    "KP33 = K22_23\n",
    "\n",
    "row1 = np.concatenate((KP11, KP12, KP13), axis=1)\n",
    "row2 = np.concatenate((KP21, KP22, KP23), axis=1)\n",
    "row3 = np.concatenate((KP31, KP32, KP33), axis=1)\n",
    "\n",
    "KP = np.concatenate((row1, row2, row3), axis=0)\n",
    "\n",
    "print(\"global stiffness matrix for the entire structure\")\n",
    "print(np.round(KP, 3))\n",
    "\n"
   ]
  },
  {
   "cell_type": "markdown",
   "metadata": {},
   "source": [
    "## Adding boundary conditions due to supports\n",
    "because of the displacement of the support is zero, we can remove the rows and columns or just impose 1 and 0 in the diagonal of the primary stiffness matrix of the structure.\n",
    "\n",
    "$$\n",
    "K_{structure} =\n",
    "\\begin{bmatrix}\n",
    "1 & 0 & 0 & 0 & 0 & 0 \\\\\n",
    "0 & 1 & 0 & 0 & 0 & 0 \\\\\n",
    "0 & 0 & kp_{33} & kp_{34} & 0 & 0 \\\\\n",
    "0 & 0 & kp_{43} & kp_{44} & 0 & 0 \\\\\n",
    "0 & 0 & 0 & 0 & 1 & 0 \\\\\n",
    "0 & 0 & 0 & 0 & 0 & 1\n",
    "\\end{bmatrix}\n",
    "$$\n"
   ]
  },
  {
   "cell_type": "code",
   "execution_count": 34,
   "metadata": {},
   "outputs": [
    {
     "name": "stdout",
     "output_type": "stream",
     "text": [
      "global stiffness matrix for the entire structure with imposed displacements\n",
      "[[ 1.00000000e+00  0.00000000e+00  0.00000000e+00  0.00000000e+00\n",
      "   0.00000000e+00  0.00000000e+00]\n",
      " [ 0.00000000e+00  1.00000000e+00  0.00000000e+00  0.00000000e+00\n",
      "   0.00000000e+00  0.00000000e+00]\n",
      " [ 0.00000000e+00  0.00000000e+00  4.04509270e+08 -9.57558007e+07\n",
      "   0.00000000e+00  0.00000000e+00]\n",
      " [ 0.00000000e+00  0.00000000e+00 -9.57558007e+07  1.28824063e+08\n",
      "   0.00000000e+00  0.00000000e+00]\n",
      " [ 0.00000000e+00  0.00000000e+00  0.00000000e+00  0.00000000e+00\n",
      "   1.00000000e+00  0.00000000e+00]\n",
      " [ 0.00000000e+00  0.00000000e+00  0.00000000e+00  0.00000000e+00\n",
      "   0.00000000e+00  1.00000000e+00]]\n"
     ]
    }
   ],
   "source": [
    "KP_imposed = copy.copy(KP)\n",
    "\n",
    "KP_imposed[:, 0] = 0\n",
    "KP_imposed[0, :] = 0\n",
    "KP_imposed[:, 1] = 0\n",
    "KP_imposed[1, :] = 0\n",
    "KP_imposed[:, 4] = 0\n",
    "KP_imposed[4, :] = 0\n",
    "KP_imposed[:, 5] = 0\n",
    "KP_imposed[5, :] = 0\n",
    "\n",
    "KP_imposed[0, 0] = 1\n",
    "KP_imposed[1, 1] = 1\n",
    "KP_imposed[4, 4] = 1\n",
    "KP_imposed[5, 5] = 1\n",
    "\n",
    "\n",
    "print(\"global stiffness matrix for the entire structure with imposed displacements\")\n",
    "print(np.round(KP_imposed, 5))"
   ]
  },
  {
   "cell_type": "markdown",
   "metadata": {},
   "source": [
    "## Finding the displacement vector\n",
    "To find the displacement vector we use the formula:\n",
    "\n",
    "$$\n",
    "\\begin{bmatrix}\n",
    "u_{x1}  \\\\\n",
    "u_{y1}  \\\\\n",
    "u_{x2}  \\\\\n",
    "u_{y2}  \\\\\n",
    "u_{x3}  \\\\\n",
    "u_{y3}\n",
    "\\end{bmatrix}\n",
    "=\n",
    "\\begin{bmatrix}\n",
    "K_{structure}\n",
    "\\end{bmatrix}^{-1}\n",
    "\\begin{bmatrix}\n",
    "F_{x1} \\\\\n",
    "F_{y1} \\\\\n",
    "F_{x2} \\\\\n",
    "F_{y2} \\\\\n",
    "F_{x3} \\\\\n",
    "F_{y3}\n",
    "\\end{bmatrix}\n",
    "$$\n",
    "\n",
    "where:\n",
    "- $u$ is the displacement vector\n",
    "- $F$ is the force \n",
    "\n",
    "In this case we can simplify the formula to:\n",
    "\n",
    "$$\n",
    "\\begin{bmatrix}\n",
    "u_{x2}  \\\\\n",
    "u_{y2}  \n",
    "\\end{bmatrix}\n",
    "=\n",
    "\\begin{bmatrix}\n",
    "kp_{33} & kp_{34} \\\\\n",
    "kp_{43} & kp_{33}\n",
    "\\end{bmatrix}^{-1}\n",
    "\\begin{bmatrix}\n",
    "0 \\\\\n",
    "150\n",
    "\\end{bmatrix}\n",
    "$$\n",
    "\n",
    "- The force is 150 because the force is applied in the y direction and the displacement in the x direction is zero.\n",
    "- The displacement we have found is the global displacement at node 2.\n"
   ]
  },
  {
   "cell_type": "code",
   "execution_count": 35,
   "metadata": {},
   "outputs": [
    {
     "name": "stdout",
     "output_type": "stream",
     "text": [
      "Stiffness matrix of the structure\n",
      "[[ 4.04509270e+08 -9.57558007e+07]\n",
      " [-9.57558007e+07  1.28824063e+08]]\n",
      "<class 'numpy.ndarray'> \n",
      "\n",
      "Inverse of the stiffness matrix of the structure:\n",
      "[[0. 0.]\n",
      " [0. 0.]] \n",
      "\n",
      "Displacement vector:\n",
      "[[-0.00033449]\n",
      " [-0.00141301]] \n",
      "\n",
      "Horizontal displacements at node 2: 0.000334 m (to the left)\n",
      "Vertical displacements at node 2: 0.001413 m (downward)\n"
     ]
    }
   ],
   "source": [
    "KS = KP[2:4, 2:4]\n",
    "print(\"Stiffness matrix of the structure\")\n",
    "print(np.round(KS, 3))\n",
    "print(type(KS),\"\\n\")\n",
    "\n",
    "KS_inv = np.linalg.inv(KS)\n",
    "print(\"Inverse of the stiffness matrix of the structure:\")\n",
    "print(np.round(KS_inv, 3),\"\\n\")\n",
    "\n",
    "F = np.array([[0], [-150000]])\n",
    "\n",
    "U = np.dot(KS_inv, F)\n",
    "\n",
    "print (\"Displacement vector:\")\n",
    "print(U,\"\\n\")\n",
    "\n",
    "def print_displacement(U):\n",
    "    if U[0, 0] < 0:\n",
    "        horizontal_disp = \"to the left\"\n",
    "    else:\n",
    "        horizontal_disp = \"to the right\"\n",
    "    \n",
    "    if U[1, 0] < 0:\n",
    "        vertical_disp = \"downward\"\n",
    "    else:\n",
    "        vertical_disp = \"upward\"\n",
    "    \n",
    "    print(f\"Horizontal displacements at node 2: {np.round((abs(U[0,0])), 6)} m ({horizontal_disp})\")\n",
    "    print(f\"Vertical displacements at node 2: {np.round((abs(U[1,0])), 6)} m ({vertical_disp})\")\n",
    "\n",
    "print_displacement(U)\n"
   ]
  },
  {
   "cell_type": "markdown",
   "metadata": {},
   "source": [
    "## Finding the reaction forces\n",
    "To find the reaction forces we use the formula:\n",
    "\n",
    "$$\n",
    "\\begin{bmatrix}\n",
    "F_{x1} \\\\\n",
    "F_{y1} \\\\\n",
    "F_{x2} \\\\\n",
    "F_{y2} \\\\\n",
    "F_{x3} \\\\\n",
    "F_{y3}\n",
    "\\end{bmatrix}\n",
    "=\n",
    "\\begin{bmatrix}\n",
    "K_{primary}\n",
    "\\end{bmatrix}\n",
    "\\begin{bmatrix}\n",
    "U_{global}\n",
    "\\end{bmatrix}\n",
    "$$\n",
    "\n",
    "where:\n",
    "- $F$ is the force (it can be reaction or the force applied)\n",
    "- $K_{primary}$ is the primary stiffness matrix of the structure (the matrix we haven't imposed the boundary conditions)\n",
    "- $U_{global}$ is the global displacement vector\n"
   ]
  },
  {
   "cell_type": "code",
   "execution_count": 36,
   "metadata": {},
   "outputs": [
    {
     "name": "stdout",
     "output_type": "stream",
     "text": [
      "[[ 0.          0.         -0.00033449 -0.00141301  0.          0.        ]]\n",
      "Force vector:\n",
      "[[ 111496.018]\n",
      " [      0.   ]\n",
      " [     -0.   ]\n",
      " [-150000.   ]\n",
      " [-111496.018]\n",
      " [ 150000.   ]]\n"
     ]
    }
   ],
   "source": [
    "UG  = np.array([[0], [0], [U[0, 0]], [U[1, 0]], [0], [0]])\n",
    "# transpose the global displacement vector\n",
    "print (UG.T)\n",
    "\n",
    "F = np.dot(KP, UG)\n",
    "\n",
    "print(\"Force vector:\")\n",
    "print(np.round(F, 3))"
   ]
  },
  {
   "cell_type": "markdown",
   "metadata": {},
   "source": [
    "## Internal force in element 1\n",
    "To find the internal force in element 1 we use the formula:\n",
    "\n",
    "$$\n",
    "F = \\frac{E A}{L} \\cdot (Ux_{local 2} - Ux_{local 1})\n",
    "$$\n",
    "\n",
    "In the case the bar element have an angle with the x-axis, we need to rotate the displacement vector to the local coordinate system of the element. To do that we use the formula:\n",
    "\n",
    "$$\n",
    "\\begin{matrix}\n",
    "Ux_{local 1} \\\\ \n",
    "Uy_{local 2}\n",
    "\\end{matrix}\n",
    "= \n",
    "\\begin{bmatrix}\n",
    "c & s & 0 & 0 \\\\\n",
    "0 & 0 & c & s \n",
    "\\end{bmatrix}\n",
    "\\cdot\n",
    "\\begin{bmatrix}\n",
    "Ux_{global 1} \\\\\n",
    "Uy_{global 1} \\\\\n",
    "Ux_{global 2} \\\\\n",
    "Uy_{global 2}\n",
    "\\end{bmatrix}\n",
    "$$\n"
   ]
  },
  {
   "cell_type": "code",
   "execution_count": 37,
   "metadata": {},
   "outputs": [
    {
     "name": "stdout",
     "output_type": "stream",
     "text": [
      "Transformation matrix:\n",
      "[[1. 0. 0. 0.]\n",
      " [0. 0. 1. 0.]] \n",
      "\n",
      "Global displacement vector:\n",
      "[[ 0.        ]\n",
      " [ 0.        ]\n",
      " [-0.00033449]\n",
      " [-0.00141301]] \n",
      "\n",
      "Local displacement vector:\n",
      "[0.]\n",
      "[-0.00033449] \n",
      "\n",
      "Local force:\n",
      "111.496 kN\n"
     ]
    }
   ],
   "source": [
    "# transformation matrix\n",
    "c = math.cos(theta)\n",
    "s = math.sin(theta)\n",
    "T = np.array([[c, s, 0, 0], [0, 0, c, s]])\n",
    "\n",
    "print(\"Transformation matrix:\")\n",
    "print(T,\"\\n\")\n",
    "\n",
    "# global displacement vector\n",
    "print(\"Global displacement vector:\")\n",
    "UGW = np.array([[0], [0], [U[0, 0]], [U[1, 0]]])\n",
    "print(UGW,\"\\n\")\n",
    "\n",
    "# local displacement vector \n",
    "print(\"Local displacement vector:\")\n",
    "UL = np.dot(T, UGW)\n",
    "print(UL[0])\n",
    "print(UL[1],\"\\n\")\n",
    "\n",
    "# local force vector\n",
    "print(\"Local force:\")\n",
    "FL1 = (E*A/L)*(UL[0] - UL[1])\n",
    "print(round(FL1.item()/1000, 3), \"kN\")\n"
   ]
  },
  {
   "cell_type": "markdown",
   "metadata": {},
   "source": [
    "## Internal force in element 2"
   ]
  },
  {
   "cell_type": "code",
   "execution_count": 38,
   "metadata": {},
   "outputs": [
    {
     "name": "stdout",
     "output_type": "stream",
     "text": [
      "Internal force in element 2:\n",
      "-186.899 kN\n"
     ]
    }
   ],
   "source": [
    "## Internal force in element 2\n",
    "# transformation matrix\n",
    "c = math.cos(theta2)\n",
    "s = math.sin(theta2)\n",
    "T2 = np.array([[c, s, 0, 0], [0, 0, c, s]])\n",
    "\n",
    "# global displacement vector\n",
    "UGW2 = np.array([[U[0, 0]], [U[1, 0]], [0], [0]])\n",
    "\n",
    "# local displacement vector\n",
    "UL2 = np.dot(T2, UGW2)\n",
    "\n",
    "# local force vector\n",
    "FL2 = (E*A/L2)*(UL2[0] - UL2[1])\n",
    "print(\"Internal force in element 2:\")\n",
    "print(round(FL2.item()/1000, 3), \"kN\")"
   ]
  },
  {
   "cell_type": "markdown",
   "metadata": {},
   "source": [
    "# Plotting the structure"
   ]
  },
  {
   "cell_type": "code",
   "execution_count": 39,
   "metadata": {},
   "outputs": [
    {
     "data": {
      "image/png": "[encoded data removed]",
      "text/plain": [
       "<Figure size 640x480 with 1 Axes>"
      ]
     },
     "metadata": {},
     "output_type": "display_data"
    }
   ],
   "source": [
    "Xfactor = 100\n",
    "\n",
    "label = \"Deflection scale factor:\" + str(Xfactor)  + \"\\n \\nDisplacement at node 2: \\n\" + str(np.round((abs(U[0,0])), 6)) + \"m\\n\" + str(np.round((abs(U[1,0])), 6)) + \" m\"\n",
    "\n",
    "fig = plt.figure()\n",
    "axes = fig.add_axes([0,0,2,2])\n",
    "fig.gca().set_aspect('equal', adjustable='box')\n",
    "\n",
    "# original structure\n",
    "axes.plot([0, 3], [0, 0], 'b')\n",
    "axes.plot([0, 3], [4, 0], 'b')\n",
    "\n",
    "# deformed structure\n",
    "axes.plot([0, 3+U[0,0].item()*Xfactor], [0, 0+U[1,0].item()*Xfactor], '--r')\n",
    "axes.plot([0, 3+U[0,0].item()*Xfactor], [4, 0+U[1,0].item()*Xfactor], '--r')\n",
    "\n",
    "axes.grid()\n",
    "axes.set_xlabel('(m)') \n",
    "axes.set_ylabel('(m)')\n",
    "axes.set_title('displacement of the structure')\n",
    "\n",
    "plt.text(1.5,3, label, fontsize=12, color='black')\n",
    "plt.show()"
   ]
  }
 ],
 "metadata": {
  "kernelspec": {
   "display_name": "Python 3",
   "language": "python",
   "name": "python3"
  },
  "language_info": {
   "codemirror_mode": {
    "name": "ipython",
    "version": 3
   },
   "file_extension": ".py",
   "mimetype": "text/x-python",
   "name": "python",
   "nbconvert_exporter": "python",
   "pygments_lexer": "ipython3",
   "version": "3.12.1"
  }
 },
 "nbformat": 4,
 "nbformat_minor": 2
}
